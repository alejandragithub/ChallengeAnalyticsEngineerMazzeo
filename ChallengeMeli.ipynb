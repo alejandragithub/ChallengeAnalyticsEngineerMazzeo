{
  "metadata": {
    "kernelspec": {
      "name": "python",
      "display_name": "Python (Pyodide)",
      "language": "python"
    },
    "language_info": {
      "codemirror_mode": {
        "name": "python",
        "version": 3
      },
      "file_extension": ".py",
      "mimetype": "text/x-python",
      "name": "python",
      "nbconvert_exporter": "python",
      "pygments_lexer": "ipython3",
      "version": "3.8"
    }
  },
  "nbformat_minor": 5,
  "nbformat": 4,
  "cells": [
    {
      "id": "b61b5f24-deac-4c23-9cdc-3c4328027084",
      "cell_type": "code",
      "source": "import requests\nimport pandas as pd\nimport csv",
      "metadata": {
        "trusted": true
      },
      "outputs": [],
      "execution_count": 3
    },
    {
      "id": "6ae43930-38af-4463-b956-f7b9b0ee18ef",
      "cell_type": "code",
      "source": "items_busqueda = [\"google home\", \"apple tv\", \"amazon echo\"]\n\nitem_details_list = []\n\naccess_token = \"APP_USR-385471892742776-031710-3daa69d48a80e653f716a4a60ffc32ee-57093395\"\n\nfor item in items_busqueda:\n     # Realizar la solicitud GET para obtener la lista de ítems de la búsqueda\n    headers = {\n        'Authorization': f'Bearer {access_token}'  \n    }\n\n    response = requests.get(f\"https://api.mercadolibre.com/sites/MLA/search?q={item}&limit=50\", headers=headers)\n    search_results = response.json()\n    \n    item_ids = [result['id'] for result in search_results['results']]\n    \n    for item_id in item_ids:\n        item_url = f\"https://api.mercadolibre.com/items/{item_id}\"\n        response = requests.get(item_url)\n        \n        if response.status_code == 200:\n            item_details = response.json()\n            item_details_list.append(item_details)\n        else:\n            print(f\"No se pudo obtener información para el ítem con ID {item_id}. Código de respuesta: {response.status_code}\")\n\nvariables_interes = ['id', 'title', 'price', 'condition', 'shipping', 'seller', 'category_id']\n\ncsv_file_path = \"resultados_productos.csv\"\n\nwith open(csv_file_path, mode='w', newline='', encoding='utf-8') as csv_file:\n    writer = csv.DictWriter(csv_file, fieldnames=variables_interes)\n    \n    writer.writeheader()\n    \n    for item_details in item_details_list:\n        item_data = {var: item_details.get(var, None) for var in variables_interes}\n        writer.writerow(item_data)\n\nprint(f\"Los resultados se han escrito en {csv_file_path}.\")",
      "metadata": {
        "trusted": true
      },
      "outputs": [],
      "execution_count": null
    },
    {
      "id": "61dba89f-5f6b-4194-8438-266c1532582a",
      "cell_type": "code",
      "source": "\"\"\"\nPasos Necesarios\n1.  Conectarse a la api de Mercado Libre usando el access_token generado mediante la creacion de una nueva api,\n    pasos seguidos en https://developers.mercadolibre.com.ar/\n2.\tRealizar Solicitud GET para Obtener Ítems de la Búsqueda:\n•\tUtilizar la biblioteca requests de Python para realizar una solicitud GET al servicio público de MercadoLibre para obtener la lista de ítems de la búsqueda.\n•\tAnalizar y procesar la respuesta JSON para obtener los IDs de los ítems relevantes.\n3.\tRealizar Solicitud GET para Obtener Detalles de cada Ítem:\n•\tIterar sobre la lista de IDs de ítems obtenidos en el paso anterior.\n•\tRealizar solicitudes GET individuales a la API pública de MercadoLibre para obtener detalles específicos de cada ítem.\n•\tProcesar la respuesta JSON para extraer la información relevante del ítem.\n4.\tDesnormalización de JSON y Escritura en CSV:\n•\tSeleccionar las variables de interés del JSON de detalles del ítem.\n•\tCrear un archivo CSV utilizando la biblioteca csv de Python.\n•\tIterar sobre los detalles de cada ítem y escribir las variables seleccionadas en el archivo CSV.\n5.\tVerificación y Manejo de Errores:\n•\tImplementar manejo de errores para verificar la validez de las respuestas del servicio.\n•\tRegistrar mensajes de error o información relevante para facilitar la depuración.\n\"\"\"",
      "metadata": {
        "trusted": true
      },
      "outputs": [],
      "execution_count": null
    }
  ]
}